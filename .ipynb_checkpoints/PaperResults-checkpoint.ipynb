{
 "cells": [
  {
   "cell_type": "code",
   "execution_count": null,
   "metadata": {},
   "outputs": [],
   "source": [
    "%matplotlib inline\n",
    "from tqdm import tqdm\n",
    "from matplotlib import pyplot as plt\n",
    "from domestic_journals import *\n",
    "import pandas as pd\n",
    "idx = pd.IndexSlice\n",
    "glob = pd.read_csv('data/index.csv').set_index(['country_code','field_code','method_code','period'])['value']\n",
    "cntrs = pd.read_csv('data/country.csv',index_col='country_code')\n",
    "usedIndicators = ['euclid','cosine','GiniSimpson','weightGini','top3','instTOP3','shareEnglish','localShare']"
   ]
  },
  {
   "cell_type": "markdown",
   "metadata": {},
   "source": [
    "## Data Section"
   ]
  },
  {
   "cell_type": "code",
   "execution_count": null,
   "metadata": {},
   "outputs": [],
   "source": []
  },
  {
   "cell_type": "markdown",
   "metadata": {},
   "source": [
    "## All indicators show very similar results\n",
    "### Full-Sample correlation\n"
   ]
  },
  {
   "cell_type": "code",
   "execution_count": null,
   "metadata": {},
   "outputs": [],
   "source": [
    "corr_full = glob.unstack('method_code').corr()\n",
    "corr_full.loc[usedIndicators,usedIndicators]"
   ]
  },
  {
   "cell_type": "markdown",
   "metadata": {},
   "source": [
    "## Means and stds in all countries, disciplines by Economic status all indicators between 2015 and 2017"
   ]
  },
  {
   "cell_type": "code",
   "execution_count": null,
   "metadata": {},
   "outputs": [],
   "source": [
    "d = {key:cntrs[key].unique() for key in ['imf2003']}\n",
    "\n",
    "statuses = ['Advanced countries','Developing countries','Transition countries']\n",
    "mdx = pd.MultiIndex.from_product([statuses,['mean','std']],names =['economic_status','stat'])\n",
    "status = pd.DataFrame(index=mdx)\n",
    "key = 'imf2003'\n",
    "for field in ['All','top_Life','top_Physical','top_Social','top_Health']:\n",
    "    for val in statuses:\n",
    "        subdf = glob.loc[idx[cntrs[cntrs[key] == val].index,field,'euclid',[2015,2016,2017]]]\n",
    "        status.loc[(val,'mean'),field] = subdf.mean()\n",
    "        status.loc[(val,'std'),field] = subdf.std()\n",
    "\n",
    "status"
   ]
  },
  {
   "cell_type": "code",
   "execution_count": null,
   "metadata": {},
   "outputs": [],
   "source": [
    "fig, ax = plt.subplots(1,2,sharey=True,figsize=(10,6))\n",
    "l = ['RUS','CHN']\n",
    "\n",
    "lstyles = ['s-','v-','o-','P-','--']\n",
    "for i in range(2):\n",
    "    a = ax[i]\n",
    "    a.set_ylim((0,1))\n",
    "    a.set_title(l[i])\n",
    "    #breakpoint()\n",
    "    chnrus.xs(l[i]).T.plot(ax=a,style=lstyles,c='gray')#,marker='.',ls='-.',c='black')"
   ]
  },
  {
   "cell_type": "code",
   "execution_count": null,
   "metadata": {},
   "outputs": [],
   "source": [
    "import geopandas as gpd\n",
    "from mpl_toolkits.axes_grid1 import make_axes_locatable\n",
    "\n",
    "world = gpd.read_file(gpd.datasets.get_path('naturalearth_lowres'))\n",
    "mapdata = pd.DataFrame(glob.loc[idx[:,'All','euclid',2017]])\n",
    "world = pd.merge(world[['geometry', 'iso_a3']],mapdata,left_on='iso_a3',right_index=True)\n",
    "\n",
    "f,ax = plt.subplots(1,figsize=(15,9))\n",
    "#divider = make_axes_locatable(ax)\n",
    "#cax = divider.append_axes(\"right\", size=\"5%\", pad=0.1)\n",
    "world.plot(column='value',cmap='gray',legend=False,ax=ax)\n",
    "ax.set_axis_off()\n",
    "plt.show()\n"
   ]
  },
  {
   "cell_type": "markdown",
   "metadata": {},
   "source": [
    "## Plotting LocalShares - main logic in data/paper_plots.py"
   ]
  },
  {
   "cell_type": "code",
   "execution_count": null,
   "metadata": {},
   "outputs": [],
   "source": [
    "locals = pd.read_csv('localShares.csv',index_col='Country')\n",
    "locals.localShare.plot(kind='bar',color='gray',figsize=(10,5))"
   ]
  },
  {
   "cell_type": "markdown",
   "metadata": {},
   "source": [
    "## Output to excel"
   ]
  },
  {
   "cell_type": "code",
   "execution_count": null,
   "metadata": {},
   "outputs": [],
   "source": [
    "writer = pd.ExcelWriter('paperTables.xlsx')\n",
    "corr_full.loc[usedIndicators,usedIndicators].to_excel(writer,sheet_name='corr_full')\n",
    "status.to_excel(writer,sheet_name='group_means_stds')\n",
    "writer.save()"
   ]
  },
  {
   "cell_type": "markdown",
   "metadata": {},
   "source": [
    "## Output CSVs as an appendix"
   ]
  },
  {
   "cell_type": "code",
   "execution_count": null,
   "metadata": {},
   "outputs": [],
   "source": [
    "glob.to_csv('appendix/data.csv',header=True)\n",
    "cntrs[cntrs.Type=='country'].imf2003.to_csv('appendix/countries.csv',header=True)"
   ]
  },
  {
   "cell_type": "code",
   "execution_count": null,
   "metadata": {},
   "outputs": [],
   "source": []
  }
 ],
 "metadata": {
  "kernelspec": {
   "display_name": "Python 3",
   "language": "python",
   "name": "python3"
  },
  "language_info": {
   "codemirror_mode": {
    "name": "ipython",
    "version": 3
   },
   "file_extension": ".py",
   "mimetype": "text/x-python",
   "name": "python",
   "nbconvert_exporter": "python",
   "pygments_lexer": "ipython3",
   "version": "3.7.1"
  }
 },
 "nbformat": 4,
 "nbformat_minor": 4
}
