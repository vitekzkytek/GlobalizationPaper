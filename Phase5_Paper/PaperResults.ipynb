{
 "cells": [
  {
   "cell_type": "markdown",
   "metadata": {},
   "source": [
    "## Load data and set db"
   ]
  },
  {
   "cell_type": "code",
   "execution_count": null,
   "metadata": {},
   "outputs": [],
   "source": [
    "%matplotlib inline\n",
    "import matplotlib.ticker as mtick\n",
    "from domestic_journals import DB_joinJournals\n",
    "from tqdm import tqdm\n",
    "from matplotlib import pyplot as plt\n",
    "import seaborn as sns\n",
    "sns.set_style(\"whitegrid\")\n",
    "import pandas as pd\n",
    "idx = pd.IndexSlice\n",
    "from scipy.stats.mstats import gmean\n",
    "import statsmodels.api as sm\n",
    "from statsmodels.formula.api import ols\n",
    "\n",
    "glob = pd.read_csv('data/index.csv').set_index(['country_code','field_code','method_code','period'])['value']\n",
    "cntrs = pd.read_excel('../external_data/dfc.xlsx',index_col='country_code').drop_duplicates(keep='first')\n",
    "usedIndicators = ['euclid','cosine','GiniSimpson','top3','instTOP3','shareEnglish','localShare']\n",
    "db = DB_joinJournals('sqlite:///c:\\\\Users\\\\OP3202\\\\Documents\\\\Git\\\\GlobalizationPaper\\\\db\\\\180802_1611_AllJournals_ArReCp_2001_2017.sqlite')\n",
    "\n",
    "fieldnames = {\n",
    "    'top_Life':'Life sciences',\n",
    "    'top_Health':'Health sciences',\n",
    "    'top_Social':'Social sciences',\n",
    "    'top_Physical':'Physical sciences',\n",
    "}\n",
    "\n",
    "ccodes = [col for col in glob.index.get_level_values('country_code').unique() if not col.startswith('_')]\n",
    "flds_narrow = [col for col in glob.index.get_level_values('field_code').unique() if col.startswith('bot')]\n",
    "flds_broad = [col for col in glob.index.get_level_values('field_code').unique() if col.startswith('top') or col == 'All']"
   ]
  },
  {
   "cell_type": "markdown",
   "metadata": {},
   "source": [
    "## Introduction: \n",
    "### Domestic journals plot"
   ]
  },
  {
   "cell_type": "code",
   "execution_count": null,
   "metadata": {},
   "outputs": [],
   "source": [
    "if False:\n",
    "    from domestic_journals import calcDomesticJournalsEuropePlot\n",
    "    locales = calcDomesticJournalsEuropePlot()\n",
    "    ax = locales.localShare.plot(kind='bar',color='gray',figsize=(12,6),fontsize=16)\n",
    "    ax.yaxis.set_major_formatter(mtick.PercentFormatter(1,decimals=0))\n",
    "    ax.xaxis.grid(False)\n",
    "    ax.set_xlabel('')"
   ]
  },
  {
   "cell_type": "markdown",
   "metadata": {},
   "source": [
    "## Data\n",
    "### Average growth of documents in the database "
   ]
  },
  {
   "cell_type": "code",
   "execution_count": null,
   "metadata": {
    "tags": []
   },
   "outputs": [],
   "source": [
    "totyr = pd.read_sql_query('''\n",
    "SELECT \n",
    "    p.name as year,\n",
    "    sum(Articles) as Documents\n",
    "FROM totalArticles ta\n",
    "inner join periods p on ta.PeriodID = p.ID\n",
    "where year >= 2005\n",
    "group by year\n",
    "''',con=db,index_col='year')\n",
    "gm = gmean(1+totyr.pct_change().Documents.dropna())\n",
    "totyr.Documents.iloc[0]*(gm)**12\n",
    "print('Total documents: {}\\nAverage growth: {}'.format(int(totyr.sum()),float(gm-1)))\n",
    "totyr"
   ]
  },
  {
   "cell_type": "markdown",
   "metadata": {},
   "source": [
    "## Results\n",
    "### Number of calculated countries in 2017 by discipline"
   ]
  },
  {
   "cell_type": "code",
   "execution_count": null,
   "metadata": {},
   "outputs": [],
   "source": [
    "glob.loc[idx[ccodes,:,'euclid',2017]].reset_index().groupby('field_code').apply(lambda x: len(x.country_code.unique()))"
   ]
  },
  {
   "cell_type": "markdown",
   "metadata": {},
   "source": [
    "## Number of disciplines assigned to documents"
   ]
  },
  {
   "cell_type": "code",
   "execution_count": null,
   "metadata": {},
   "outputs": [],
   "source": [
    "fieldnumber = pd.read_sql_query('''\n",
    "select \n",
    "    ie.broadFieldsNum as broadFieldsNumber,\n",
    "    ie.narrowFieldsNum as narrowFieldsNumber,\n",
    "    Sum(Articles) as Documents from totalArticles ta \n",
    "inner join \n",
    "    (select \n",
    "        *,\n",
    "        (top_Life + top_Social + top_Physical + top_Health) as broadFieldsNum,\n",
    "        (bot_General + bot_AgriculturalAndBiological + bot_ArtsHumanities +\n",
    "        bot_BiochemistryGeneticsMolecularBiology + bot_BusinessManagementAccounting + \n",
    "        bot_ChemicalEngineering + bot_Chemistry + bot_ComputerScience + \n",
    "        bot_DecisionSciences + bot_EarthPlanetarySciences + bot_EconomicsEconometricsFinance +\n",
    "        bot_Energy + bot_Engineering + bot_EnvironmentalScience + bot_ImmunologyMicrobiology +\n",
    "        bot_Materials + bot_Mathematics + bot_Medicine + bot_Neuroscience + bot_Nursing + \n",
    "        bot_PharmacologyToxicologyPharmaceutics + bot_PhysicsAstronomy + bot_Psychology + \n",
    "        bot_SocialSciences + bot_Veterinary + bot_Dentistry + bot_HealthProfessions) as narrowFieldsNum\n",
    "    from issns i\n",
    "    ) ie\n",
    "    ON ie.ID = ta.ISSNID\n",
    "    group by ie.broadFieldsNum,\n",
    "    ie.narrowFieldsNum\n",
    "''',con=db)\n",
    "fieldshares = pd.DataFrame({\n",
    "    'Broad':fieldnumber.groupby('broadFieldsNumber').Documents.sum()/fieldnumber.groupby('broadFieldsNumber').Documents.sum().sum(),\n",
    "    'Narrow':fieldnumber.groupby('narrowFieldsNumber').Documents.sum()/fieldnumber.groupby('narrowFieldsNumber').Documents.sum().sum()\n",
    "})\n",
    "fieldshares.loc['More',:]=fieldshares.loc[4:,:].sum()\n",
    "\n",
    "fieldshares = fieldshares.loc[[0,1,2,3,'More'],:]*100\n",
    "ax = fieldshares.T.plot.bar(title='Number of disciplines assigned to documents',stacked=True,cmap='gray')\n",
    "ax.yaxis.set_major_formatter(mtick.PercentFormatter())"
   ]
  },
  {
   "cell_type": "markdown",
   "metadata": {},
   "source": [
    "### ANOVA - countries,disciplines,time"
   ]
  },
  {
   "cell_type": "code",
   "execution_count": null,
   "metadata": {
    "tags": []
   },
   "outputs": [],
   "source": [
    "# Calculating effect size\n",
    "def anova_table(df,formula):\n",
    "    model  = ols(formula, df).fit()\n",
    "    aov = sm.stats.anova_lm(model, typ=2)\n",
    "    aov['mean_sq'] = aov[:]['sum_sq']/aov[:]['df']\n",
    "    aov['eta_sq'] = aov[:-1]['sum_sq']/sum(aov['sum_sq'])\n",
    "    aov['omega_sq'] = (aov[:-1]['sum_sq']-(aov[:-1]['df']*aov['mean_sq'][-1]))/(sum(aov['sum_sq'])+aov['mean_sq'][-1])\n",
    "    cols = ['sum_sq', 'mean_sq', 'df', 'F', 'PR(>F)', 'eta_sq', 'omega_sq']\n",
    "    aov = aov[cols]\n",
    "    return aov,model\n",
    "\n",
    "d = {}\n",
    "\n",
    "formula = 'value ~ C(country_code) + \\\n",
    "                   C(field_code) + \\\n",
    "                   C(period)'# + \\\n",
    "                #   C(country_code)*C(field_code)'# + \\\n",
    "                #    C(country_code)*C(period) + \\\n",
    "                #    C(field_code)*C(period) + \\\n",
    "                #    C(field_code)*C(period)*C(country_code)'\n",
    "for method in tqdm(usedIndicators):\n",
    "    df_narrow = glob.loc[idx[ccodes,flds_narrow,method,:]].to_frame().reset_index()\n",
    "    anova_narrow, model_narrow = anova_table(df_narrow,formula)\n",
    "    tbl_narrow = anova_narrow['omega_sq']\n",
    "    tbl_narrow['r_squared'] = model_narrow.rsquared\n",
    "    d[('narrow',method)] = tbl_narrow\n",
    "    #d[('narrow','omega_sq',method)] = anova_table(df_narrow,formula)['omega_sq'].sum()\n",
    "    #d[('narrow','r_sq',method)] = ols(formula,df_narrow).fit().rsquared\n",
    "\n",
    "    df_broad = glob.loc[idx[ccodes,flds_broad,method,:]].to_frame().reset_index()\n",
    "    anova_broad, model_broad = anova_table(df_broad,formula)\n",
    "    tbl_broad = anova_broad['omega_sq']\n",
    "    tbl_broad['r_squared'] = model_broad.rsquared\n",
    "    d[('broad',method)] = tbl_broad\n",
    "\n",
    "#anova_cntr_fld_time = pd.Series(d).unstack()#.stack(0).reorder_levels((1,0)).sort_index()\n",
    "anova_cntr_fld_time = pd.DataFrame(d).stack(0).reorder_levels((1,0)).sort_index()\n",
    "\n",
    "anova_cntr_fld_time"
   ]
  },
  {
   "cell_type": "markdown",
   "metadata": {},
   "source": [
    "## The life sciences and physical sciences are more globalized than social sciences and health sciences"
   ]
  },
  {
   "cell_type": "code",
   "execution_count": null,
   "metadata": {},
   "outputs": [],
   "source": [
    "df = glob.loc[idx[ccodes,flds_broad,'euclid',:]].unstack('field_code')\n",
    "d = {}\n",
    "for fld1 in flds_broad[:-1]:\n",
    "    for fld2 in flds_broad[:-1]:\n",
    "        if fld1 != fld2:\n",
    "            df2 = df.dropna(subset=(fld1,fld2))\n",
    "            #breakpoint()\n",
    "            d[(fld1,fld2)] = (df2[fld1]>df2[fld2]).sum()/df2.shape[0]\n",
    "pd.Series(d).unstack()"
   ]
  },
  {
   "cell_type": "markdown",
   "metadata": {},
   "source": [
    "## Boxen plots\n",
    "### Economic status and broad disciplines"
   ]
  },
  {
   "cell_type": "code",
   "execution_count": null,
   "metadata": {},
   "outputs": [],
   "source": [
    "groups = glob.loc[idx[ccodes,flds_broad[:-1],'euclid',:]].reset_index()\n",
    "groups['imf2003'] = groups.country_code.map(cntrs.imf2003)\n",
    "groups['fields'] = groups.field_code.map(fieldnames)\n",
    "\n",
    "plt.figure(figsize=(18,6))\n",
    "sns.boxenplot(x='imf2003',\n",
    "            y='value',\n",
    "            hue='fields',\n",
    "            hue_order=['Physical sciences','Life sciences','Social sciences','Health sciences'],\n",
    "            order=['Advanced countries','Developing countries','Transition countries'],\n",
    "            saturation=1,\n",
    "            data=groups)\n",
    "plt.legend(frameon=False,fontsize=16,loc=(0,0.05))\n",
    "plt.ylim((0,1))\n",
    "plt.xticks(fontsize=16)\n",
    "plt.yticks(fontsize=16)\n",
    "plt.ylabel('Globalization (Euclidian Distance)',fontsize=16);\n",
    "plt.xlabel('IMF (2003) Economic status',fontsize=16);\n",
    "\n"
   ]
  },
  {
   "cell_type": "code",
   "execution_count": null,
   "metadata": {},
   "outputs": [],
   "source": [
    "groups = glob.loc[idx[ccodes,flds_broad,'euclid',:]].reset_index()\n",
    "groups['eu'] = groups.country_code.map(cntrs.eu)\n",
    "groups['name'] = groups.country_code.map(cntrs.name)\n",
    "groups = groups[groups.eu == 'EU-28']\n",
    "order = groups[(groups.field_code == 'All') & (groups.period == 2017)].sort_values(by='value').name"
   ]
  },
  {
   "cell_type": "code",
   "execution_count": null,
   "metadata": {},
   "outputs": [],
   "source": [
    "groups = glob.loc[idx[ccodes,flds_broad,'euclid',:]].reset_index()\n",
    "groups['eu'] = groups.country_code.map(cntrs.eu)\n",
    "groups['name'] = groups.country_code.map(cntrs.name)\n",
    "groups = groups[groups.eu == 'EU-28']\n",
    "groups = groups[groups.name != 'United Kingdom']\n",
    "\n",
    "ranking = list(groups[(groups.field_code == 'All') & (groups.period == 2017)].sort_values(by='value',ascending=False).name)\n",
    "groups = groups[groups.field_code != 'All']\n",
    "\n",
    "groups['fields'] = groups.field_code.map(fieldnames)\n",
    "\n",
    "plt.figure(figsize=(18,6))\n",
    "sns.boxenplot(x='name',\n",
    "            y='value',\n",
    "            hue='fields',\n",
    "            hue_order=['Physical sciences','Life sciences','Social sciences','Health sciences'],\n",
    "            order=ranking,\n",
    "            saturation=1,\n",
    "            linewidth=0.5,\n",
    "            dodge=False,\n",
    "            data=groups)\n",
    "plt.legend(frameon=False,fontsize=16,loc=(0.,0.05))\n",
    "plt.ylim((0,1))\n",
    "plt.xticks(fontsize=16,rotation=90)\n",
    "plt.yticks(fontsize=16)\n",
    "plt.grid(b=True,which='major',axis='x')\n",
    "plt.ylabel('Globalization (Euclidian Distance)',fontsize=16);\n",
    "plt.xlabel('',fontsize=16);"
   ]
  },
  {
   "cell_type": "markdown",
   "metadata": {},
   "source": [
    "## Full-Sample correlation\n"
   ]
  },
  {
   "cell_type": "code",
   "execution_count": null,
   "metadata": {},
   "outputs": [],
   "source": [
    "corr_full = glob.unstack('method_code').corr()\n",
    "corr_full.loc[usedIndicators,usedIndicators]"
   ]
  },
  {
   "cell_type": "markdown",
   "metadata": {},
   "source": [
    "## China and Russia "
   ]
  },
  {
   "cell_type": "code",
   "execution_count": null,
   "metadata": {},
   "outputs": [],
   "source": [
    "fig, axs = plt.subplots(1,2,sharey=True,figsize=(12,6))\n",
    "l = ['RUS','CHN']\n",
    "chnrus = glob.loc[idx[['CHN','RUS'],flds_broad,'euclid',:]].unstack('field_code').reset_index().drop('method_code',axis=1).set_index(['country_code','period'])\n",
    "\n",
    "countrynames = {\n",
    "    'RUS':'Russia','CHN':'China'\n",
    "}\n",
    "chnrus = chnrus.rename(fieldnames,axis=1)\n",
    "lstyles = ['s-','v-','o-','P-','--']\n",
    "for i in range(2):\n",
    "    ax = axs[i]\n",
    "    ax.set_ylim((0,1))\n",
    "    ax.set_title(countrynames[l[i]],fontsize=16)\n",
    "    chnrus.xs(l[i]).plot(ax=ax,style=lstyles,c='gray',fontsize=16,legend=None)\n",
    "    ax.yaxis.set_major_formatter(mtick.PercentFormatter(1))\n",
    "    ax.set_xlabel('')\n",
    "handles, labels = ax.get_legend_handles_labels()\n",
    "fig.legend(handles, labels, loc='lower center',ncol=3,fontsize=16,bbox_to_anchor=(0.45, -0.038),frameon=False)\n"
   ]
  },
  {
   "cell_type": "markdown",
   "metadata": {},
   "source": [
    "## Research output distribution in selected EU countries"
   ]
  },
  {
   "cell_type": "code",
   "execution_count": null,
   "metadata": {},
   "outputs": [],
   "source": [
    "import matplotlib.colors as mc\n",
    "selected = ['Czech Republic','Slovakia','Poland','Bulgaria','France','Germany','Netherlands','Denmark','Austria','Portugal','Spain']\n",
    "dists = pd.read_csv('../Phase2_CalcGlobalization/country_dists/country_dists_{}.csv'.format('euclid'),index_col=['Country','field','period']).drop('method',axis=1)\n",
    "seldists = dists.loc[idx[selected,flds_broad[:-1],2017],['Q1','Q2','Q3','Q4']].reset_index().drop('period',axis=1).set_index(['Country','field']).rename(index=fieldnames)\n",
    "fields = ['Physical sciences','Life sciences','Social sciences','Health sciences']\n",
    "alphas = [1,0.75,0.5,0.25]\n",
    "defcolors=[c['color'] for c in list(plt.rcParams['axes.prop_cycle'])]\n",
    "\n",
    "\n",
    "import matplotlib.patches as mpatches\n",
    "\n",
    "gray_patches = [mpatches.Patch(color=mc.to_rgba('#383838',alpha), label='Q{}'.format(i+1)) for i,alpha in enumerate(alphas)]"
   ]
  },
  {
   "cell_type": "code",
   "execution_count": null,
   "metadata": {},
   "outputs": [],
   "source": [
    "props = {c:{'base_color':'#383838'} for i,c in enumerate(selected)}\n",
    "fig, axs = plt.subplots(ncols=len(fields),nrows=1,figsize=(12,6),sharex=True,sharey=True)\n",
    "colors = [[mc.to_rgba(props[cntr]['base_color'],alpha) for cntr in props] for alpha in [1.0,.75,.5,.25]]\n",
    "\n",
    "for i,fld in enumerate(fields):\n",
    "    ax=axs[i]\n",
    "    #breakpoint()\n",
    "    subdf = seldists.loc[idx[:,fld],:].reset_index().set_index('Country').drop('field',axis=1).loc[selected]\n",
    "    #breakpoint()\n",
    "    subdf.plot.bar(\n",
    "        stacked=True,\n",
    "        ax=ax,\n",
    "        color=colors,\n",
    "        legend=None,\n",
    "        fontsize=14)\n",
    "    ax.set_title(fld,fontsize=16)\n",
    "    ax.set_xlabel('')\n",
    "    ax.yaxis.set_major_formatter(mtick.PercentFormatter(1.0))\n",
    "    ax.xaxis.grid(False)\n",
    "fig.legend(handles=gray_patches,loc='upper center',ncol=4,frameon=False,fontsize=15);\n"
   ]
  },
  {
   "cell_type": "markdown",
   "metadata": {},
   "source": [
    "## Output CSVs as an appendix"
   ]
  },
  {
   "cell_type": "code",
   "execution_count": null,
   "metadata": {},
   "outputs": [],
   "source": [
    "glob.to_csv('../public_data/globalization_scores.csv',header=True)\n",
    "cntrs.imf2003.to_csv('../public_data/imf2003_classification.csv',header=True)\n",
    "dists.to_csv('../public_data/globalization_quartiles.csv')"
   ]
  },
  {
   "cell_type": "markdown",
   "metadata": {},
   "source": [
    "## Appendix A4: IMF (2003) country classification "
   ]
  },
  {
   "cell_type": "code",
   "execution_count": null,
   "metadata": {
    "tags": []
   },
   "outputs": [],
   "source": [
    "for group in ['Advanced countries','Developing countries','Transition countries']:\n",
    "    l = list(cntrs[cntrs.imf2003 == group].name)\n",
    "    l.sort()\n",
    "    print('{}: '.format(group) + ', '.join(l) + '\\n')"
   ]
  },
  {
   "cell_type": "markdown",
   "metadata": {},
   "source": [
    "### EnglishDocuments footnote"
   ]
  },
  {
   "cell_type": "code",
   "execution_count": null,
   "metadata": {},
   "outputs": [],
   "source": [
    "sns.violinplot(x='method_code',y='value',data=glob.to_frame().reset_index(),figsize=(20,6))"
   ]
  }
 ],
 "metadata": {
  "kernelspec": {
   "display_name": "Python 3",
   "language": "python",
   "name": "python3"
  },
  "language_info": {
   "codemirror_mode": {
    "name": "ipython",
    "version": 3
   },
   "file_extension": ".py",
   "mimetype": "text/x-python",
   "name": "python",
   "nbconvert_exporter": "python",
   "pygments_lexer": "ipython3",
   "version": "3.7.3-final"
  }
 },
 "nbformat": 4,
 "nbformat_minor": 4
}